{
 "cells": [
  {
   "cell_type": "markdown",
   "id": "4fc44349-1fbf-4975-9897-9c2567d6d63d",
   "metadata": {},
   "source": [
    "#task 1"
   ]
  },
  {
   "cell_type": "code",
   "execution_count": null,
   "id": "b704b7d0-f690-43bc-880a-c56a9033ea9b",
   "metadata": {},
   "outputs": [],
   "source": [
    "#LUHN Algorithm:\n",
    "def card_validity(input):\n",
    "    input = input[::-1]\n",
    "\n",
    "    input = [int(x) for x in input]\n",
    "\n",
    "    for i in range(1, len(input), 2):\n",
    "        input[i] *= 2 \n",
    "\n",
    "        if input[i] > 9:\n",
    "            input[i] -= 9\n",
    "    total = sum(input)\n",
    "\n",
    "    if total % 10 == 0:\n",
    "        print(\"Valid\")\n",
    "    else:\n",
    "        print(\"Invalid\")       \n",
    "\n",
    "card_validity(\"0030014598763254\")"
   ]
  },
  {
   "cell_type": "markdown",
   "id": "1ba07d49-9fb7-4a33-8fbc-32c207438aa4",
   "metadata": {},
   "source": [
    "#task 2"
   ]
  },
  {
   "cell_type": "code",
   "execution_count": 1,
   "id": "73dc5a82-45b4-436e-8961-f3009bb79675",
   "metadata": {},
   "outputs": [
    {
     "name": "stdout",
     "output_type": "stream",
     "text": [
      "Normal sentence: Hi, what is your name? Do i know u?\n",
      "With out punctuations: Hi what is your name Do i know u\n"
     ]
    }
   ],
   "source": [
    "#Remove Punctuation:\n",
    "def remove_punctuation(text):\n",
    "    punctuations = \"!()-[]{};:',<>./=+-?\"\n",
    "    result = \"\"\n",
    "\n",
    "    for char in text:\n",
    "        if char not in punctuations:\n",
    "            result += char\n",
    "\n",
    "    return result\n",
    "\n",
    "text = \"Hi, what is your name? Do i know u?\"\n",
    "clean = remove_punctuation(text)\n",
    "print(f\"Normal sentence: {text}\")\n",
    "print(f\"With out punctuations: {clean}\")\n"
   ]
  },
  {
   "cell_type": "markdown",
   "id": "2f5bdcbd-9f32-4179-b87d-eb565ac8eb9b",
   "metadata": {},
   "source": [
    "#TASK 3"
   ]
  },
  {
   "cell_type": "code",
   "execution_count": 9,
   "id": "6c66f149-69f9-457f-8634-4ca422806a16",
   "metadata": {},
   "outputs": [
    {
     "name": "stdout",
     "output_type": "stream",
     "text": [
      "Original Sentence: like i you\n",
      "Sorted Sentence: ilikeyou\n"
     ]
    }
   ],
   "source": [
    "#Sorting Alphabets:\n",
    "def new_sentence(sentence):\n",
    "    words = sentence.split(' ')\n",
    "    words.sort()\n",
    "    sorted = \"\".join(words)\n",
    "    return sorted \n",
    "\n",
    "sentence = \"like i you\"\n",
    "sorted_result = new_sentence(sentence)\n",
    "print(\"Original Sentence:\", sentence)\n",
    "print(\"Sorted Sentence:\", sorted_result)\n"
   ]
  },
  {
   "cell_type": "code",
   "execution_count": null,
   "id": "55279899-6e95-47a8-b5f4-eb754b3ec9ab",
   "metadata": {},
   "outputs": [],
   "source": []
  }
 ],
 "metadata": {
  "kernelspec": {
   "display_name": "Python [conda env:base] *",
   "language": "python",
   "name": "conda-base-py"
  },
  "language_info": {
   "codemirror_mode": {
    "name": "ipython",
    "version": 3
   },
   "file_extension": ".py",
   "mimetype": "text/x-python",
   "name": "python",
   "nbconvert_exporter": "python",
   "pygments_lexer": "ipython3",
   "version": "3.12.7"
  }
 },
 "nbformat": 4,
 "nbformat_minor": 5
}
