{
 "cells": [
  {
   "cell_type": "markdown",
   "id": "bb914677-640c-4209-a4b2-33257124719c",
   "metadata": {},
   "source": [
    "# TO DO LIST"
   ]
  },
  {
   "cell_type": "code",
   "execution_count": null,
   "id": "2c074382-c6ae-472d-bef7-0c39abde0b7a",
   "metadata": {},
   "outputs": [
    {
     "name": "stdout",
     "output_type": "stream",
     "text": [
      "-------To-Do list--------\n",
      "        1. Add task \n",
      "        2. View task \n",
      "        3. Task completed\n",
      "        4. Delete task\n",
      "        5. Exit List\n",
      "\n"
     ]
    },
    {
     "name": "stdin",
     "output_type": "stream",
     "text": [
      "Enter your choice:  1\n",
      "enter YOUR task:  dinner\n"
     ]
    },
    {
     "name": "stdout",
     "output_type": "stream",
     "text": [
      "----Task dinner added succesfully !----\n",
      "-------To-Do list--------\n",
      "        1. Add task \n",
      "        2. View task \n",
      "        3. Task completed\n",
      "        4. Delete task\n",
      "        5. Exit List\n",
      "\n"
     ]
    }
   ],
   "source": [
    "\n",
    "tasks = []\n",
    "\n",
    "def menu():\n",
    "    print(\"\"\"-------To-Do list--------\n",
    "        1. Add task \n",
    "        2. View task \n",
    "        3. Task completed\n",
    "        4. Delete task\n",
    "        5. Exit List\n",
    "\"\"\")\n",
    "def add():\n",
    "    task = input(\"enter YOUR task: \")\n",
    "    tasks.append({\"task\": task, \"completed\": False})\n",
    "    print(f\"----Task {task} added succesfully !----\")\n",
    "\n",
    "def view():\n",
    "    if not tasks:\n",
    "        print(\"no tasks to view\")\n",
    "\n",
    "    else:\n",
    "        for index, task in enumerate(tasks):\n",
    "            if task[\"completed\"]:\n",
    "                status = \"✓\"\n",
    "            else:\n",
    "                status = \"✗\"\n",
    "            print(f\"{index}. {task[\"task\"]} [{status}]\")\n",
    "def mark():\n",
    "    view()\n",
    "    task_num = int(input(\"enter the task number to mark as done: \"))\n",
    "\n",
    "    if task_num < len(tasks) and task_num >= 0:\n",
    "        tasks[task_num][\"completed\"] = True\n",
    "        print(f\"task {tasks[task_num][\"task\"]} marked completed !\")\n",
    "    else:\n",
    "        print(\"invalid task number\")\n",
    "\n",
    "def delete():\n",
    "    view()\n",
    "    task_num = int(input(\"enter the task number to delete: \"))\n",
    "    \n",
    "    if task_num < len(tasks) and task_num >= 0:\n",
    "        deleted = tasks.pop(task_num)\n",
    "        print(f\"task {deleted[\"task\"]} deleted successfully ! \")\n",
    "    else:\n",
    "        print(\"invalid task number\")\n",
    "\n",
    "def main():\n",
    "    while True:\n",
    "        menu()\n",
    "        choice = input(\"Enter your choice: \")\n",
    "\n",
    "        if choice == \"1\":\n",
    "            add()\n",
    "        elif choice == \"2\":\n",
    "            view()\n",
    "        elif choice == \"3\":\n",
    "            mark()\n",
    "        elif choice == \"4\":\n",
    "            delete()\n",
    "        elif choice == \"5\":\n",
    "            break\n",
    "        else:\n",
    "            print(\"invalid choice!\")\n",
    "\n",
    "main()"
   ]
  },
  {
   "cell_type": "code",
   "execution_count": null,
   "id": "cbf668c8-4094-4d95-89c9-11f3e7a3810d",
   "metadata": {},
   "outputs": [],
   "source": []
  }
 ],
 "metadata": {
  "kernelspec": {
   "display_name": "Python [conda env:base] *",
   "language": "python",
   "name": "conda-base-py"
  },
  "language_info": {
   "codemirror_mode": {
    "name": "ipython",
    "version": 3
   },
   "file_extension": ".py",
   "mimetype": "text/x-python",
   "name": "python",
   "nbconvert_exporter": "python",
   "pygments_lexer": "ipython3",
   "version": "3.12.7"
  }
 },
 "nbformat": 4,
 "nbformat_minor": 5
}
