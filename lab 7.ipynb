{
 "cells": [
  {
   "cell_type": "code",
   "execution_count": null,
   "id": "1b9d40ad-c0f6-45ac-8c55-8dec5fc4fa04",
   "metadata": {},
   "outputs": [],
   "source": [
    "#lab 7"
   ]
  },
  {
   "cell_type": "code",
   "execution_count": 1,
   "id": "982550c4-25a7-41cc-976a-e1cf43961ec5",
   "metadata": {},
   "outputs": [
    {
     "ename": "SyntaxError",
     "evalue": "incomplete input (3097422235.py, line 49)",
     "output_type": "error",
     "traceback": [
      "\u001b[1;36m  Cell \u001b[1;32mIn[1], line 49\u001b[1;36m\u001b[0m\n\u001b[1;33m    0 <= neighbor_pos\u001b[0m\n\u001b[1;37m                     ^\u001b[0m\n\u001b[1;31mSyntaxError\u001b[0m\u001b[1;31m:\u001b[0m incomplete input\n"
     ]
    }
   ],
   "source": [
    "class Node:\n",
    "    def __init__(self, position, parent=None):\n",
    "        self.position = position\n",
    "        self.parent = parent\n",
    "        self.g = 0  \n",
    "        self.h = 0  \n",
    "        self.f = 0  \n",
    "\n",
    "def heuristic(a, b):\n",
    "    return abs(a[0] - b[0]) + abs(a[1] - b[1])\n",
    "\n",
    "def find_lowest_f(open_list):\n",
    "    lowest = open_list[0]\n",
    "    for node in open_list:\n",
    "        if node.f < lowest.f:\n",
    "            lowest = node\n",
    "    return lowest\n",
    "\n",
    "def astar(grid, start, end):\n",
    "    open_list = []\n",
    "    closed_list = []\n",
    "    \n",
    "    start_node = Node(start)\n",
    "    end_node = Node(end)\n",
    "\n",
    "    open_list.append(start_node)\n",
    "\n",
    "    while open_list:\n",
    "        current_node = find_lowest_f(open_list)\n",
    "        open_list.remove(current_node)\n",
    "        closed_list.append(current_node)\n",
    "\n",
    "        if current_node.position == end_node.position:\n",
    "            path = []\n",
    "            while current_node:\n",
    "                path.append(current_node.position)\n",
    "                current_node = current_node.parent\n",
    "            return path[::-1]  # Return reversed path\n",
    "\n",
    "        neighbors = [\n",
    "            (current_node.position[0] - 1, current_node.position[1]),\n",
    "            (current_node.position[0] + 1, current_node.position[1]),\n",
    "            (current_node.position[0], current_node.position[1] - 1),\n",
    "            (current_node.position[0], current_node.position[1] + 1),\n",
    "        ]\n",
    "\n",
    "        for neighbor_pos in neighbors:\n",
    "            if (0 <= neighbor_pos[0] < len(grid) and \n",
    "                0 <= neighbor_pos\n"
   ]
  },
  {
   "cell_type": "code",
   "execution_count": null,
   "id": "78d023fd-f45c-4588-8b34-60bc56034c53",
   "metadata": {},
   "outputs": [],
   "source": []
  }
 ],
 "metadata": {
  "kernelspec": {
   "display_name": "Python [conda env:base] *",
   "language": "python",
   "name": "conda-base-py"
  },
  "language_info": {
   "codemirror_mode": {
    "name": "ipython",
    "version": 3
   },
   "file_extension": ".py",
   "mimetype": "text/x-python",
   "name": "python",
   "nbconvert_exporter": "python",
   "pygments_lexer": "ipython3",
   "version": "3.12.7"
  }
 },
 "nbformat": 4,
 "nbformat_minor": 5
}
