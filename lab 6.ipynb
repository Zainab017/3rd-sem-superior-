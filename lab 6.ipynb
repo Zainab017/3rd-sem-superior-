{
 "cells": [
  {
   "cell_type": "code",
   "execution_count": null,
   "id": "ee645145-5af2-4c89-b78b-6fdc8cf8e2ef",
   "metadata": {},
   "outputs": [],
   "source": [
    "#task 1\n"
   ]
  },
  {
   "cell_type": "code",
   "execution_count": null,
   "id": "9492d606-8ca4-44ce-a1fd-008f6d943ad9",
   "metadata": {},
   "outputs": [],
   "source": [
    "def bfs(graph, visited, nodes):\n",
    "    if not nodes:\n",
    "        return\n",
    "    \n",
    "    next_nodes = []\n",
    "    for node in nodes:\n",
    "        if node not in visited:\n",
    "            print(node, end=\" \")\n",
    "            visited.append(node)\n",
    "            next_nodes.extend(graph[node])\n",
    "    bfs(graph, visited, next_nodes)\n",
    "        \n",
    "graph = {\n",
    "    \"1\" : [\"2\",\"3\"],\n",
    "    \"2\" : [\"4\"],\n",
    "    \"3\" : [\"4\"],\n",
    "    \"4\" : [],\n",
    "}\n",
    "\n",
    "bfs(graph,list(), \"1\")"
   ]
  },
  {
   "cell_type": "code",
   "execution_count": null,
   "id": "87ccc07b-fb0b-4968-a35e-ec7000f90a08",
   "metadata": {},
   "outputs": [],
   "source": [
    "#task 2"
   ]
  },
  {
   "cell_type": "code",
   "execution_count": null,
   "id": "f5dbee50-ab46-4d63-a7c3-350f659e2bff",
   "metadata": {},
   "outputs": [],
   "source": []
  }
 ],
 "metadata": {
  "kernelspec": {
   "display_name": "Python [conda env:base] *",
   "language": "python",
   "name": "conda-base-py"
  },
  "language_info": {
   "codemirror_mode": {
    "name": "ipython",
    "version": 3
   },
   "file_extension": ".py",
   "mimetype": "text/x-python",
   "name": "python",
   "nbconvert_exporter": "python",
   "pygments_lexer": "ipython3",
   "version": "3.12.7"
  }
 },
 "nbformat": 4,
 "nbformat_minor": 5
}
