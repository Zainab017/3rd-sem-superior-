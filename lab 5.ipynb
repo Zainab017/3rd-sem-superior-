{
 "cells": [
  {
   "cell_type": "code",
   "execution_count": null,
   "id": "fb626e66-495a-4cc6-9a39-f470f1a54444",
   "metadata": {},
   "outputs": [],
   "source": [
    "#task 5"
   ]
  },
  {
   "cell_type": "code",
   "execution_count": 3,
   "id": "6ccae92a-abf8-4991-af88-278cc43ccfdd",
   "metadata": {},
   "outputs": [
    {
     "name": "stdout",
     "output_type": "stream",
     "text": [
      "a b d e f c "
     ]
    }
   ],
   "source": [
    "\n",
    "def dfs(graph, start_node):\n",
    "    stack = [start_node]\n",
    "    visited = []\n",
    "    while stack:\n",
    "        current_node = stack.pop()\n",
    "        if current_node not in visited:\n",
    "            visited.append(current_node)\n",
    "            stack.extend(reversed(graph[current_node]))\n",
    "            print(current_node, end=' ')\n",
    "\n",
    "new_graph = {\n",
    "    'a': ['b', 'c'],\n",
    "    'b': ['d', 'e'],\n",
    "    'c': ['f'],\n",
    "    'd': [],\n",
    "    'e': ['f'],\n",
    "    'f': []\n",
    "}\n",
    "\n",
    "dfs(new_graph, 'a')"
   ]
  },
  {
   "cell_type": "code",
   "execution_count": null,
   "id": "bcbbb27b-b8ce-425e-b096-86209269ae13",
   "metadata": {},
   "outputs": [],
   "source": []
  }
 ],
 "metadata": {
  "kernelspec": {
   "display_name": "Python [conda env:base] *",
   "language": "python",
   "name": "conda-base-py"
  },
  "language_info": {
   "codemirror_mode": {
    "name": "ipython",
    "version": 3
   },
   "file_extension": ".py",
   "mimetype": "text/x-python",
   "name": "python",
   "nbconvert_exporter": "python",
   "pygments_lexer": "ipython3",
   "version": "3.12.7"
  }
 },
 "nbformat": 4,
 "nbformat_minor": 5
}
