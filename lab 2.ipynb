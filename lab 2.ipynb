{
 "cells": [
  {
   "cell_type": "code",
   "execution_count": null,
   "id": "87d0d18f-4904-4c98-94ba-f65b24e8cd56",
   "metadata": {},
   "outputs": [],
   "source": [
    "#Mini Project 1:\n",
    "def fizz_buzz():\n",
    "    for num in range(1, 101):\n",
    "        if num % 3 == 0 and num % 5 == 0:\n",
    "            print(\"Fizz Buzz\")\n",
    "        elif num % 3 == 0:\n",
    "            print(\"Fizz\")\n",
    "        elif num % 5 == 0:\n",
    "            print(\"Buzz\")\n",
    "        else:\n",
    "            print(num) \n",
    "fizz_buzz()"
   ]
  },
  {
   "cell_type": "code",
   "execution_count": null,
   "id": "04052ec6-9d83-4c56-8c22-b33f7d6d9b0e",
   "metadata": {},
   "outputs": [],
   "source": [
    "#Mini Project 2:\n",
    "movies = [\n",
    "(\"Eternal Sunshine of the Spotless Mind\", 20000000),\n",
    "(\"Memento\", 9000000),\n",
    "(\"Requiem for a Dream\", 4500000),\n",
    "(\"Pirates of the Caribbean: On Stranger Tides\", 379000000),\n",
    "(\"Avengers: Age of Ultron\", 365000000),\n",
    "(\"Avengers: Endgame\", 356000000),\n",
    "(\"Incredibles 2\", 200000000)\n",
    "]\n",
    "\n",
    "def add_movie():\n",
    "    num = int(input(\"number of movies you want to enter?: \"))\n",
    "    for i in range(num):\n",
    "        movie = input(\"enter the name of the movie: \")\n",
    "        budget = int(input(\"enter the budget of the movie: \"))\n",
    "        movies.append((movie, budget))\n",
    "        print(f\"Movie {movie} with budget {budget}$ has been added successfully!\")\n",
    "\n",
    "add_movie()   \n",
    "\n",
    "total = 0 \n",
    "for movie, budget in movies:\n",
    "     total += budget \n",
    "     average = total/ len(movies)\n",
    "print(f\"total: {total}$, average: {average}$\")\n",
    "count = 0\n",
    "for movie, budget in movies:\n",
    "     if budget > average:\n",
    "        difference = budget - average \n",
    "        count += 1\n",
    "        print(f\"{movie} above average budget by {difference}$\")\n",
    "print(f\"total number of movies above budget: {count}\") "
   ]
  }
 ],
 "metadata": {
  "kernelspec": {
   "display_name": "Python [conda env:base] *",
   "language": "python",
   "name": "conda-base-py"
  },
  "language_info": {
   "codemirror_mode": {
    "name": "ipython",
    "version": 3
   },
   "file_extension": ".py",
   "mimetype": "text/x-python",
   "name": "python",
   "nbconvert_exporter": "python",
   "pygments_lexer": "ipython3",
   "version": "3.12.7"
  }
 },
 "nbformat": 4,
 "nbformat_minor": 5
}
